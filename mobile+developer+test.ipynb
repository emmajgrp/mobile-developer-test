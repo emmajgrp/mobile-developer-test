{
 "cells": [
  {
   "cell_type": "code",
   "execution_count": 66,
   "metadata": {},
   "outputs": [
    {
     "name": "stderr",
     "output_type": "stream",
     "text": [
      "127.0.0.1 - - [25/Jun/2018 19:22:12] \"POST / HTTP/1.1\" 200 -\n",
      "127.0.0.1 - - [25/Jun/2018 19:22:12] code 401, message Invalid credentials\n",
      "127.0.0.1 - - [25/Jun/2018 19:22:12] \"POST / HTTP/1.1\" 401 -\n",
      "127.0.0.1 - - [25/Jun/2018 19:22:19] \"POST / HTTP/1.1\" 200 -\n",
      "127.0.0.1 - - [25/Jun/2018 19:22:19] code 400, message Invalid input\n",
      "127.0.0.1 - - [25/Jun/2018 19:22:19] \"POST / HTTP/1.1\" 400 -\n",
      "127.0.0.1 - - [25/Jun/2018 19:22:28] \"POST / HTTP/1.1\" 200 -\n",
      "127.0.0.1 - - [25/Jun/2018 19:22:28] \"POST / HTTP/1.1\" 200 -\n"
     ]
    }
   ],
   "source": [
    "#assumptions: - secret value is hard coded into web app\n",
    "#             - invalid imput implies username and/or password were \n",
    "#               blank or contained only integers\n",
    "\n",
    "import cgi\n",
    "from http.server import BaseHTTPRequestHandler,HTTPServer\n",
    "class Handler(BaseHTTPRequestHandler):\n",
    "    def do_GET(self):\n",
    "        self.send_response(200)\n",
    "        self.end_headers()\n",
    "        self.wfile.write(bytes(\"<html><head><title>Login</title></head>\", \"utf-8\"))\n",
    "        self.wfile.write(bytes(\"<body><p>Login page for Emma</p>\", \"utf-8\"))\n",
    "        self.wfile.write(bytes(\"\"\"\n",
    "            <html><head></head>\n",
    "            <body>\n",
    "            <form method=\"POST\">\n",
    "              Username: <input type=\"text\" name=\"un\"><br>\n",
    "              Password: <input type=\"text\" name=\"pw\"><br>\n",
    "              <input type=\"submit\" value=\"Login\">\n",
    "            </form>\n",
    "            </body>\n",
    "            </html>\n",
    "            \"\"\", \"utf-8\"))\n",
    "        return\n",
    "\n",
    "    def do_POST(self):\n",
    "        self.send_response(200)\n",
    "        self.end_headers()\n",
    "        form = cgi.FieldStorage(fp=self.rfile, headers=self.headers,\n",
    "            environ={'REQUEST_METHOD':'POST',\n",
    "                     'CONTENT_TYPE':self.headers['Content-Type'],})\n",
    "        try:\n",
    "            unIn = form[\"un\"].value\n",
    "            pwIn = form[\"pw\"].value\n",
    "        except KeyError:\n",
    "            self.wfile.write(bytes(\"<title>Invalid input</title>\", \"utf-8\"))\n",
    "            self.send_error(400, \"Invalid input\", \"Neither the username nor the password may be blank. Please return to the previous page to try again\")\n",
    "            return\n",
    "        \n",
    "        if(unIn == \"demo\" and pwIn == \"demo01\"):\n",
    "            self.wfile.write(bytes(\"<html><head><title>Login success\\n</title></head>\", \"utf-8\"))\n",
    "            self.send_response(200, \"Login success\")\n",
    "            self.end_headers()\n",
    "            self.wfile.write(bytes(\"<p>secret value: carrot</p>\", \"utf-8\"))\n",
    "        elif(unIn.isdigit() or pwIn.isdigit()):\n",
    "            self.wfile.write(bytes(\"<title>Invalid input</title>\", \"utf-8\"))\n",
    "            self.send_error(400, \"Invalid input\", \"Input may not contain only integers. Please return to the previous page to try again\")\n",
    "        else:\n",
    "            self.wfile.write(bytes(\"<title>Invalid credentials</title>\", \"utf-8\"))\n",
    "            self.send_error(401, \"Invalid credentials\", \"Username and/or password incorrect. Please return to the previous page to try again\")\n",
    "        return\n",
    "    \n",
    "server = HTTPServer(('', 8080), Handler)\n",
    "\n",
    "try:\n",
    "    server.serve_forever()\n",
    "except KeyboardInterrupt:\n",
    "    server.shutdown()\n",
    "\n",
    "server.server_close()"
   ]
  },
  {
   "cell_type": "code",
   "execution_count": null,
   "metadata": {
    "collapsed": true
   },
   "outputs": [],
   "source": []
  }
 ],
 "metadata": {
  "kernelspec": {
   "display_name": "Python 3",
   "language": "python",
   "name": "python3"
  },
  "language_info": {
   "codemirror_mode": {
    "name": "ipython",
    "version": 3
   },
   "file_extension": ".py",
   "mimetype": "text/x-python",
   "name": "python",
   "nbconvert_exporter": "python",
   "pygments_lexer": "ipython3",
   "version": "3.6.1"
  }
 },
 "nbformat": 4,
 "nbformat_minor": 2
}
